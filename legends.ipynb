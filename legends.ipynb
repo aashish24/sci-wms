{
 "cells": [
  {
   "cell_type": "code",
   "execution_count": 1,
   "metadata": {},
   "outputs": [],
   "source": [
    "import matplotlib\n",
    "from matplotlib.pyplot import get_cmap, colorbar, legend\n",
    "import matplotlib.pyplot as plt\n",
    "import numpy as np\n",
    "%matplotlib inline"
   ]
  },
  {
   "cell_type": "code",
   "execution_count": 2,
   "metadata": {},
   "outputs": [],
   "source": [
    "def create_figure(params):\n",
    "    dpi = 96.\n",
    "    width = int(params['width'])\n",
    "    height = int(params['height'])\n",
    "    fig = plt.figure(frameon=False, dpi=dpi, figsize=(width, height), facecolor=None, edgecolor=None)\n",
    "    fig.set_alpha(0)\n",
    "    fig.set_figwidth(width / dpi)\n",
    "    fig.set_figheight(height / dpi)\n",
    "    return fig"
   ]
  },
  {
   "cell_type": "markdown",
   "metadata": {},
   "source": [
    "### Vertical Gradiant"
   ]
  },
  {
   "cell_type": "code",
   "execution_count": 12,
   "metadata": {},
   "outputs": [
    {
     "data": {
      "image/png": "[encoded data removed]",
      "text/plain": [
       "<Figure size 25x500 with 1 Axes>"
      ]
     },
     "metadata": {},
     "output_type": "display_data"
    }
   ],
   "source": [
    "p = dict(cmin=30,\n",
    "         cmax=300,\n",
    "         width=25,\n",
    "         height=500,\n",
    "         colormap='jet',\n",
    "         showlabel=True,\n",
    "         units='degrees',\n",
    "         showvalues=True,\n",
    "         logscale=False)\n",
    "fig = create_figure(p)\n",
    "ax = fig.add_axes([0.05, 0.05, 1.0, 1.0])\n",
    "\n",
    "if p['logscale'] is True:\n",
    "    CNorm = matplotlib.colors.LogNorm(vmin=p['cmin'], vmax=p['cmax'], clip=False)\n",
    "else:\n",
    "    CNorm = matplotlib.colors.Normalize(vmin=p['cmin'], vmax=p['cmax'], clip=False)\n",
    "    \n",
    "cb = matplotlib.colorbar.ColorbarBase(ax, cmap=get_cmap(p['colormap']), norm=CNorm, orientation='vertical')\n",
    "if p['showvalues'] is False:\n",
    "    cb.set_ticks([])\n",
    "else:\n",
    "    if p['logscale']:\n",
    "        ticks = np.linspace(p['cmin'], p['cmax'], 5)\n",
    "        cb.set_ticks(ticks)\n",
    "        cb.set_ticklabels(ticks)\n",
    "if p['showlabel']:\n",
    "    cb.set_label(p['units'])"
   ]
  },
  {
   "cell_type": "markdown",
   "metadata": {},
   "source": [
    "### Horizontal Gradiant"
   ]
  },
  {
   "cell_type": "code",
   "execution_count": 13,
   "metadata": {},
   "outputs": [
    {
     "data": {
      "image/png": "[encoded data removed]",
      "text/plain": [
       "<Figure size 500x25 with 1 Axes>"
      ]
     },
     "metadata": {},
     "output_type": "display_data"
    }
   ],
   "source": [
    "p = dict(cmin=30,\n",
    "         cmax=300,\n",
    "         width=500,\n",
    "         height=25,\n",
    "         colormap='jet',\n",
    "         showlabel=True,\n",
    "         units='degrees',\n",
    "         showvalues=True,\n",
    "         logscale=False)\n",
    "fig = create_figure(p)\n",
    "ax = fig.add_axes([0.05, 0.05, 1.0, 1.0])\n",
    "\n",
    "if p['logscale'] is True:\n",
    "    CNorm = matplotlib.colors.LogNorm(vmin=p['cmin'], vmax=p['cmax'], clip=False)\n",
    "else:\n",
    "    CNorm = matplotlib.colors.Normalize(vmin=p['cmin'], vmax=p['cmax'], clip=False)\n",
    "\n",
    "cb = matplotlib.colorbar.ColorbarBase(ax, cmap=get_cmap(p['colormap']), norm=CNorm, orientation='horizontal')\n",
    "\n",
    "if p['showvalues'] is False:\n",
    "    cb.set_ticks([])\n",
    "else:\n",
    "    if p['logscale']:\n",
    "        ticks = np.linspace(p['cmin'], p['cmax'], 5)\n",
    "        cb.set_ticks(ticks)\n",
    "        cb.set_ticklabels(ticks)\n",
    "if p['showlabel']:\n",
    "    cb.set_label(p['units'])"
   ]
  },
  {
   "cell_type": "markdown",
   "metadata": {},
   "source": [
    "### Vertical Contours"
   ]
  },
  {
   "cell_type": "code",
   "execution_count": 66,
   "metadata": {},
   "outputs": [
    {
     "data": {
      "image/png": "[encoded data removed]",
      "text/plain": [
       "<Figure size 50x500 with 1 Axes>"
      ]
     },
     "metadata": {},
     "output_type": "display_data"
    }
   ],
   "source": [
    "p = dict(cmin=30,\n",
    "         cmax=300,\n",
    "         width=50,\n",
    "         height=500,\n",
    "         colormap='jet',\n",
    "         showlabel=True,\n",
    "         units='degrees',\n",
    "         showvalues=True,\n",
    "         logscale=False,\n",
    "         numcontours=10)\n",
    "fig = create_figure(p)\n",
    "ax = fig.add_axes([0.05, 0.05, 1.0, 1.0])\n",
    "\n",
    "if p['logscale'] is True:\n",
    "    CNorm = matplotlib.colors.LogNorm(vmin=p['cmin'], vmax=p['cmax'], clip=False)\n",
    "else:\n",
    "    CNorm = matplotlib.colors.Normalize(vmin=p['cmin'], vmax=p['cmax'], clip=False)\n",
    "\n",
    "levs = np.linspace(p['cmin'], p['cmax'], p['numcontours'])\n",
    "\n",
    "x, y = np.meshgrid(np.ones(2), np.ones(2))\n",
    "cs = ax.contourf(x, y, x, levels=levs, norm=CNorm, cmap=get_cmap(p['colormap']), extend='both')\n",
    "\n",
    "cb = colorbar(mappable=cs, cax=ax, orientation='vertical', spacing='proportional', extendrect=False)\n",
    "\n",
    "if p['showvalues'] is False:\n",
    "    cb.set_ticks([])\n",
    "else:\n",
    "    cb.set_ticks(levs)\n",
    "    cb.set_ticklabels(levs)\n",
    "        \n",
    "if p['showlabel']:\n",
    "    cb.set_label(p['units'])"
   ]
  },
  {
   "cell_type": "markdown",
   "metadata": {
    "collapsed": true
   },
   "source": [
    "### Vertical Contours (logscale)"
   ]
  },
  {
   "cell_type": "code",
   "execution_count": 67,
   "metadata": {},
   "outputs": [
    {
     "data": {
      "image/png": "[encoded data removed]",
      "text/plain": [
       "<Figure size 50x500 with 1 Axes>"
      ]
     },
     "metadata": {},
     "output_type": "display_data"
    }
   ],
   "source": [
    "p = dict(cmin=30,\n",
    "         cmax=300,\n",
    "         width=50,\n",
    "         height=500,\n",
    "         colormap='jet',\n",
    "         showlabel=True,\n",
    "         units='degrees',\n",
    "         showvalues=True,\n",
    "         logscale=True,\n",
    "         numcontours=10)\n",
    "fig = create_figure(p)\n",
    "ax = fig.add_axes([0.05, 0.05, 1.0, 1.0])\n",
    "\n",
    "if p['logscale'] is True:\n",
    "    CNorm = matplotlib.colors.LogNorm(vmin=p['cmin'], vmax=p['cmax'], clip=False)\n",
    "else:\n",
    "    CNorm = matplotlib.colors.Normalize(vmin=p['cmin'], vmax=p['cmax'], clip=False)\n",
    "\n",
    "levs = np.hstack(([p['cmin']-3], np.linspace(p['cmin'], p['cmax'], p['numcontours']), [p['cmax']+40]))\n",
    "\n",
    "x, y = np.meshgrid(np.ones(2), np.ones(2))\n",
    "cs = ax.contourf(x, y, x, levels=levs, norm=CNorm, cmap=get_cmap(p['colormap']))\n",
    "\n",
    "cb = colorbar(mappable=cs, cax=ax, orientation='vertical', spacing='proportional', extendrect=False)\n",
    "\n",
    "if p['showvalues'] is False:\n",
    "    cb.set_ticks([])\n",
    "else:\n",
    "    cb.set_ticks(levs[1:-1])\n",
    "    cb.set_ticklabels(levs[1:-1])\n",
    "        \n",
    "if p['showlabel']:\n",
    "    cb.set_label(p['units'])"
   ]
  },
  {
   "cell_type": "markdown",
   "metadata": {},
   "source": [
    "### Horizontal Contours"
   ]
  },
  {
   "cell_type": "code",
   "execution_count": 70,
   "metadata": {},
   "outputs": [
    {
     "data": {
      "image/png": "[encoded data removed]",
      "text/plain": [
       "<Figure size 500x50 with 1 Axes>"
      ]
     },
     "metadata": {},
     "output_type": "display_data"
    }
   ],
   "source": [
    "p = dict(cmin=30,\n",
    "         cmax=300,\n",
    "         width=500,\n",
    "         height=50,\n",
    "         colormap='jet',\n",
    "         showlabel=True,\n",
    "         units='degrees',\n",
    "         showvalues=True,\n",
    "         logscale=False,\n",
    "         numcontours=10)\n",
    "fig = create_figure(p)\n",
    "ax = fig.add_axes([0.05, 0.05, 1.0, 1.0])\n",
    "\n",
    "if p['logscale'] is True:\n",
    "    CNorm = matplotlib.colors.LogNorm(vmin=p['cmin'], vmax=p['cmax'], clip=False)\n",
    "else:\n",
    "    CNorm = matplotlib.colors.Normalize(vmin=p['cmin'], vmax=p['cmax'], clip=False)\n",
    "\n",
    "levs = np.linspace(p['cmin'], p['cmax'], p['numcontours'])\n",
    "\n",
    "x, y = np.meshgrid(np.ones(2), np.ones(2))\n",
    "cs = ax.contourf(x, y, x, levels=levs, norm=CNorm, cmap=get_cmap(p['colormap']), extend='both')\n",
    "\n",
    "cb = colorbar(mappable=cs, values=levs, cax=ax, orientation='horizontal', spacing='proportional', extendrect=False)\n",
    "\n",
    "if p['showvalues'] is False:\n",
    "    cb.set_ticks([])\n",
    "else:\n",
    "    cb.set_ticks(levs)\n",
    "    cb.set_ticklabels(levs)\n",
    "        \n",
    "if p['showlabel']:\n",
    "    cb.set_label(p['units'])"
   ]
  },
  {
   "cell_type": "markdown",
   "metadata": {},
   "source": [
    "### Horizontal Contours (logscale)"
   ]
  },
  {
   "cell_type": "code",
   "execution_count": 73,
   "metadata": {},
   "outputs": [
    {
     "data": {
      "image/png": "[encoded data removed]",
      "text/plain": [
       "<Figure size 500x50 with 1 Axes>"
      ]
     },
     "metadata": {},
     "output_type": "display_data"
    }
   ],
   "source": [
    "p = dict(cmin=30,\n",
    "         cmax=300,\n",
    "         width=500,\n",
    "         height=50,\n",
    "         colormap='jet',\n",
    "         showlabel=True,\n",
    "         units='degrees',\n",
    "         showvalues=True,\n",
    "         logscale=True,\n",
    "         numcontours=10)\n",
    "fig = create_figure(p)\n",
    "ax = fig.add_axes([0.05, 0.05, 1.0, 1.0])\n",
    "\n",
    "if p['logscale'] is True:\n",
    "    CNorm = matplotlib.colors.LogNorm(vmin=p['cmin'], vmax=p['cmax'], clip=False)\n",
    "else:\n",
    "    CNorm = matplotlib.colors.Normalize(vmin=p['cmin'], vmax=p['cmax'], clip=False)\n",
    "\n",
    "levs = np.hstack(([p['cmin']-3], np.linspace(p['cmin'], p['cmax'], 10), [p['cmax']+40]))\n",
    "\n",
    "x, y = np.meshgrid(np.ones(2), np.ones(2))\n",
    "cs = ax.contourf(x, y, x, levels=levs, norm=CNorm, cmap=get_cmap(p['colormap']))\n",
    "\n",
    "cb = colorbar(mappable=cs, cax=ax, orientation='horizontal', spacing='proportional', extendrect=True)\n",
    "\n",
    "if p['showvalues'] is False:\n",
    "    cb.set_ticks([])\n",
    "else:\n",
    "    cb.set_ticks(levs[1:-1])\n",
    "    cb.set_ticklabels(levs[1:-1])\n",
    "\n",
    "if p['showlabel']:\n",
    "    cb.set_label(p['units'])"
   ]
  },
  {
   "cell_type": "markdown",
   "metadata": {},
   "source": [
    "### Box Contours (filledcontours?)"
   ]
  },
  {
   "cell_type": "code",
   "execution_count": 75,
   "metadata": {},
   "outputs": [
    {
     "data": {
      "image/png": "[encoded data removed]",
      "text/plain": [
       "<Figure size 50x50 with 1 Axes>"
      ]
     },
     "metadata": {},
     "output_type": "display_data"
    }
   ],
   "source": [
    "p = dict(cmin=30,\n",
    "         cmax=300,\n",
    "         width=50,\n",
    "         height=50,\n",
    "         colormap='jet',\n",
    "         showlabel=True,\n",
    "         units='degrees',\n",
    "         showvalues=True,\n",
    "         logscale=False,\n",
    "         numcontours=10)\n",
    "fig = create_figure(p)\n",
    "ax = fig.add_axes([0.05, 0.05, 1.0, 1.0])\n",
    "ax.set_axis_off()\n",
    "\n",
    "if p['logscale'] is True:\n",
    "    CNorm = matplotlib.colors.LogNorm(vmin=p['cmin'], vmax=p['cmax'], clip=False)\n",
    "else:\n",
    "    CNorm = matplotlib.colors.Normalize(vmin=p['cmin'], vmax=p['cmax'], clip=False)\n",
    "\n",
    "levs = np.linspace(p['cmin'], p['cmax'], p['numcontours'])\n",
    "\n",
    "if p['showvalues'] is True:\n",
    "    levs_labels = [str(x) for x in levs ]\n",
    "    levs_labels[0] = \"< \" + str(p['cmin'])\n",
    "    levs_labels[-1] = \"> \" + str(p['cmax'])\n",
    "else:\n",
    "    levs_labels = [ '' for x in range(levs.size) ]\n",
    "\n",
    "x, y = np.meshgrid(np.arange(2), np.arange(2))\n",
    "cs = ax.contourf(x, y, x, levels=levs, norm=CNorm, cmap=get_cmap(p['colormap']), extend='max')\n",
    "\n",
    "proxy = [plt.Rectangle((0, 0), 0, 0, fc=pc.get_facecolor()[0]) for pc in cs.collections]\n",
    "\n",
    "cb = legend(proxy, levs_labels, frameon=False)\n",
    "if p['showlabel']:\n",
    "    cb.set_title(p['units'])\n"
   ]
  },
  {
   "cell_type": "markdown",
   "metadata": {},
   "source": [
    "### Box Contours (not filledcontours?)"
   ]
  },
  {
   "cell_type": "code",
   "execution_count": 11,
   "metadata": {},
   "outputs": [
    {
     "ename": "TypeError",
     "evalue": "Input z must be at least a 2x2 array.",
     "output_type": "error",
     "traceback": [
      "\u001b[0;31m---------------------------------------------------------------------------\u001b[0m",
      "\u001b[0;31mTypeError\u001b[0m                                 Traceback (most recent call last)",
      "\u001b[0;32m<ipython-input-11-dac48fc2f241>\u001b[0m in \u001b[0;36m<module>\u001b[0;34m()\u001b[0m\n\u001b[1;32m     24\u001b[0m \u001b[0;34m\u001b[0m\u001b[0m\n\u001b[1;32m     25\u001b[0m \u001b[0mx\u001b[0m\u001b[0;34m,\u001b[0m \u001b[0my\u001b[0m \u001b[0;34m=\u001b[0m \u001b[0mnp\u001b[0m\u001b[0;34m.\u001b[0m\u001b[0mmeshgrid\u001b[0m\u001b[0;34m(\u001b[0m\u001b[0mnp\u001b[0m\u001b[0;34m.\u001b[0m\u001b[0marange\u001b[0m\u001b[0;34m(\u001b[0m\u001b[0;36m1\u001b[0m\u001b[0;34m)\u001b[0m\u001b[0;34m,\u001b[0m \u001b[0mnp\u001b[0m\u001b[0;34m.\u001b[0m\u001b[0marange\u001b[0m\u001b[0;34m(\u001b[0m\u001b[0;36m1\u001b[0m\u001b[0;34m)\u001b[0m\u001b[0;34m)\u001b[0m\u001b[0;34m\u001b[0m\u001b[0m\n\u001b[0;32m---> 26\u001b[0;31m \u001b[0mcs\u001b[0m \u001b[0;34m=\u001b[0m \u001b[0max\u001b[0m\u001b[0;34m.\u001b[0m\u001b[0mcontourf\u001b[0m\u001b[0;34m(\u001b[0m\u001b[0mx\u001b[0m\u001b[0;34m,\u001b[0m \u001b[0my\u001b[0m\u001b[0;34m,\u001b[0m \u001b[0mx\u001b[0m\u001b[0;34m,\u001b[0m \u001b[0mlevels\u001b[0m\u001b[0;34m=\u001b[0m\u001b[0mlevs\u001b[0m\u001b[0;34m,\u001b[0m \u001b[0mnorm\u001b[0m\u001b[0;34m=\u001b[0m\u001b[0mCNorm\u001b[0m\u001b[0;34m,\u001b[0m \u001b[0mcmap\u001b[0m\u001b[0;34m=\u001b[0m\u001b[0mget_cmap\u001b[0m\u001b[0;34m(\u001b[0m\u001b[0mp\u001b[0m\u001b[0;34m[\u001b[0m\u001b[0;34m'colormap'\u001b[0m\u001b[0;34m]\u001b[0m\u001b[0;34m)\u001b[0m\u001b[0;34m,\u001b[0m \u001b[0mextend\u001b[0m\u001b[0;34m=\u001b[0m\u001b[0;34m'max'\u001b[0m\u001b[0;34m)\u001b[0m\u001b[0;34m\u001b[0m\u001b[0m\n\u001b[0m\u001b[1;32m     27\u001b[0m \u001b[0;34m\u001b[0m\u001b[0m\n\u001b[1;32m     28\u001b[0m \u001b[0mproxy\u001b[0m \u001b[0;34m=\u001b[0m \u001b[0;34m[\u001b[0m\u001b[0mplt\u001b[0m\u001b[0;34m.\u001b[0m\u001b[0mRectangle\u001b[0m\u001b[0;34m(\u001b[0m\u001b[0;34m(\u001b[0m\u001b[0;36m0\u001b[0m\u001b[0;34m,\u001b[0m \u001b[0;36m0\u001b[0m\u001b[0;34m)\u001b[0m\u001b[0;34m,\u001b[0m \u001b[0;36m0\u001b[0m\u001b[0;34m,\u001b[0m \u001b[0;36m0\u001b[0m\u001b[0;34m,\u001b[0m \u001b[0mfc\u001b[0m\u001b[0;34m=\u001b[0m\u001b[0mpc\u001b[0m\u001b[0;34m.\u001b[0m\u001b[0mget_facecolor\u001b[0m\u001b[0;34m(\u001b[0m\u001b[0;34m)\u001b[0m\u001b[0;34m[\u001b[0m\u001b[0;36m0\u001b[0m\u001b[0;34m]\u001b[0m\u001b[0;34m)\u001b[0m \u001b[0;32mfor\u001b[0m \u001b[0mpc\u001b[0m \u001b[0;32min\u001b[0m \u001b[0mcs\u001b[0m\u001b[0;34m.\u001b[0m\u001b[0mcollections\u001b[0m\u001b[0;34m]\u001b[0m\u001b[0;34m\u001b[0m\u001b[0m\n",
      "\u001b[0;32m/data/conda/miniconda3-py36/envs/sciwms36/lib/python3.6/site-packages/matplotlib/__init__.py\u001b[0m in \u001b[0;36minner\u001b[0;34m(ax, *args, **kwargs)\u001b[0m\n\u001b[1;32m   1853\u001b[0m                         \u001b[0;34m\"the Matplotlib list!)\"\u001b[0m \u001b[0;34m%\u001b[0m \u001b[0;34m(\u001b[0m\u001b[0mlabel_namer\u001b[0m\u001b[0;34m,\u001b[0m \u001b[0mfunc\u001b[0m\u001b[0;34m.\u001b[0m\u001b[0m__name__\u001b[0m\u001b[0;34m)\u001b[0m\u001b[0;34m,\u001b[0m\u001b[0;34m\u001b[0m\u001b[0m\n\u001b[1;32m   1854\u001b[0m                         RuntimeWarning, stacklevel=2)\n\u001b[0;32m-> 1855\u001b[0;31m             \u001b[0;32mreturn\u001b[0m \u001b[0mfunc\u001b[0m\u001b[0;34m(\u001b[0m\u001b[0max\u001b[0m\u001b[0;34m,\u001b[0m \u001b[0;34m*\u001b[0m\u001b[0margs\u001b[0m\u001b[0;34m,\u001b[0m \u001b[0;34m**\u001b[0m\u001b[0mkwargs\u001b[0m\u001b[0;34m)\u001b[0m\u001b[0;34m\u001b[0m\u001b[0m\n\u001b[0m\u001b[1;32m   1856\u001b[0m \u001b[0;34m\u001b[0m\u001b[0m\n\u001b[1;32m   1857\u001b[0m         inner.__doc__ = _add_data_doc(inner.__doc__,\n",
      "\u001b[0;32m/data/conda/miniconda3-py36/envs/sciwms36/lib/python3.6/site-packages/matplotlib/axes/_axes.py\u001b[0m in \u001b[0;36mcontourf\u001b[0;34m(self, *args, **kwargs)\u001b[0m\n\u001b[1;32m   6179\u001b[0m             \u001b[0mself\u001b[0m\u001b[0;34m.\u001b[0m\u001b[0mcla\u001b[0m\u001b[0;34m(\u001b[0m\u001b[0;34m)\u001b[0m\u001b[0;34m\u001b[0m\u001b[0m\n\u001b[1;32m   6180\u001b[0m         \u001b[0mkwargs\u001b[0m\u001b[0;34m[\u001b[0m\u001b[0;34m'filled'\u001b[0m\u001b[0;34m]\u001b[0m \u001b[0;34m=\u001b[0m \u001b[0;32mTrue\u001b[0m\u001b[0;34m\u001b[0m\u001b[0m\n\u001b[0;32m-> 6181\u001b[0;31m         \u001b[0mcontours\u001b[0m \u001b[0;34m=\u001b[0m \u001b[0mmcontour\u001b[0m\u001b[0;34m.\u001b[0m\u001b[0mQuadContourSet\u001b[0m\u001b[0;34m(\u001b[0m\u001b[0mself\u001b[0m\u001b[0;34m,\u001b[0m \u001b[0;34m*\u001b[0m\u001b[0margs\u001b[0m\u001b[0;34m,\u001b[0m \u001b[0;34m**\u001b[0m\u001b[0mkwargs\u001b[0m\u001b[0;34m)\u001b[0m\u001b[0;34m\u001b[0m\u001b[0m\n\u001b[0m\u001b[1;32m   6182\u001b[0m         \u001b[0mself\u001b[0m\u001b[0;34m.\u001b[0m\u001b[0mautoscale_view\u001b[0m\u001b[0;34m(\u001b[0m\u001b[0;34m)\u001b[0m\u001b[0;34m\u001b[0m\u001b[0m\n\u001b[1;32m   6183\u001b[0m         \u001b[0;32mreturn\u001b[0m \u001b[0mcontours\u001b[0m\u001b[0;34m\u001b[0m\u001b[0m\n",
      "\u001b[0;32m/data/conda/miniconda3-py36/envs/sciwms36/lib/python3.6/site-packages/matplotlib/contour.py\u001b[0m in \u001b[0;36m__init__\u001b[0;34m(self, ax, *args, **kwargs)\u001b[0m\n\u001b[1;32m    844\u001b[0m         \u001b[0mself\u001b[0m\u001b[0;34m.\u001b[0m\u001b[0m_transform\u001b[0m \u001b[0;34m=\u001b[0m \u001b[0mkwargs\u001b[0m\u001b[0;34m.\u001b[0m\u001b[0mpop\u001b[0m\u001b[0;34m(\u001b[0m\u001b[0;34m'transform'\u001b[0m\u001b[0;34m,\u001b[0m \u001b[0;32mNone\u001b[0m\u001b[0;34m)\u001b[0m\u001b[0;34m\u001b[0m\u001b[0m\n\u001b[1;32m    845\u001b[0m \u001b[0;34m\u001b[0m\u001b[0m\n\u001b[0;32m--> 846\u001b[0;31m         \u001b[0mkwargs\u001b[0m \u001b[0;34m=\u001b[0m \u001b[0mself\u001b[0m\u001b[0;34m.\u001b[0m\u001b[0m_process_args\u001b[0m\u001b[0;34m(\u001b[0m\u001b[0;34m*\u001b[0m\u001b[0margs\u001b[0m\u001b[0;34m,\u001b[0m \u001b[0;34m**\u001b[0m\u001b[0mkwargs\u001b[0m\u001b[0;34m)\u001b[0m\u001b[0;34m\u001b[0m\u001b[0m\n\u001b[0m\u001b[1;32m    847\u001b[0m         \u001b[0mself\u001b[0m\u001b[0;34m.\u001b[0m\u001b[0m_process_levels\u001b[0m\u001b[0;34m(\u001b[0m\u001b[0;34m)\u001b[0m\u001b[0;34m\u001b[0m\u001b[0m\n\u001b[1;32m    848\u001b[0m \u001b[0;34m\u001b[0m\u001b[0m\n",
      "\u001b[0;32m/data/conda/miniconda3-py36/envs/sciwms36/lib/python3.6/site-packages/matplotlib/contour.py\u001b[0m in \u001b[0;36m_process_args\u001b[0;34m(self, *args, **kwargs)\u001b[0m\n\u001b[1;32m   1414\u001b[0m                 \u001b[0mself\u001b[0m\u001b[0;34m.\u001b[0m\u001b[0m_corner_mask\u001b[0m \u001b[0;34m=\u001b[0m \u001b[0mmpl\u001b[0m\u001b[0;34m.\u001b[0m\u001b[0mrcParams\u001b[0m\u001b[0;34m[\u001b[0m\u001b[0;34m'contour.corner_mask'\u001b[0m\u001b[0;34m]\u001b[0m\u001b[0;34m\u001b[0m\u001b[0m\n\u001b[1;32m   1415\u001b[0m \u001b[0;34m\u001b[0m\u001b[0m\n\u001b[0;32m-> 1416\u001b[0;31m             \u001b[0mx\u001b[0m\u001b[0;34m,\u001b[0m \u001b[0my\u001b[0m\u001b[0;34m,\u001b[0m \u001b[0mz\u001b[0m \u001b[0;34m=\u001b[0m \u001b[0mself\u001b[0m\u001b[0;34m.\u001b[0m\u001b[0m_contour_args\u001b[0m\u001b[0;34m(\u001b[0m\u001b[0margs\u001b[0m\u001b[0;34m,\u001b[0m \u001b[0mkwargs\u001b[0m\u001b[0;34m)\u001b[0m\u001b[0;34m\u001b[0m\u001b[0m\n\u001b[0m\u001b[1;32m   1417\u001b[0m \u001b[0;34m\u001b[0m\u001b[0m\n\u001b[1;32m   1418\u001b[0m             \u001b[0m_mask\u001b[0m \u001b[0;34m=\u001b[0m \u001b[0mma\u001b[0m\u001b[0;34m.\u001b[0m\u001b[0mgetmask\u001b[0m\u001b[0;34m(\u001b[0m\u001b[0mz\u001b[0m\u001b[0;34m)\u001b[0m\u001b[0;34m\u001b[0m\u001b[0m\n",
      "\u001b[0;32m/data/conda/miniconda3-py36/envs/sciwms36/lib/python3.6/site-packages/matplotlib/contour.py\u001b[0m in \u001b[0;36m_contour_args\u001b[0;34m(self, args, kwargs)\u001b[0m\n\u001b[1;32m   1472\u001b[0m             \u001b[0margs\u001b[0m \u001b[0;34m=\u001b[0m \u001b[0margs\u001b[0m\u001b[0;34m[\u001b[0m\u001b[0;36m1\u001b[0m\u001b[0;34m:\u001b[0m\u001b[0;34m]\u001b[0m\u001b[0;34m\u001b[0m\u001b[0m\n\u001b[1;32m   1473\u001b[0m         \u001b[0;32melif\u001b[0m \u001b[0mNargs\u001b[0m \u001b[0;34m<=\u001b[0m \u001b[0;36m4\u001b[0m\u001b[0;34m:\u001b[0m\u001b[0;34m\u001b[0m\u001b[0m\n\u001b[0;32m-> 1474\u001b[0;31m             \u001b[0mx\u001b[0m\u001b[0;34m,\u001b[0m \u001b[0my\u001b[0m\u001b[0;34m,\u001b[0m \u001b[0mz\u001b[0m \u001b[0;34m=\u001b[0m \u001b[0mself\u001b[0m\u001b[0;34m.\u001b[0m\u001b[0m_check_xyz\u001b[0m\u001b[0;34m(\u001b[0m\u001b[0margs\u001b[0m\u001b[0;34m[\u001b[0m\u001b[0;34m:\u001b[0m\u001b[0;36m3\u001b[0m\u001b[0;34m]\u001b[0m\u001b[0;34m,\u001b[0m \u001b[0mkwargs\u001b[0m\u001b[0;34m)\u001b[0m\u001b[0;34m\u001b[0m\u001b[0m\n\u001b[0m\u001b[1;32m   1475\u001b[0m             \u001b[0margs\u001b[0m \u001b[0;34m=\u001b[0m \u001b[0margs\u001b[0m\u001b[0;34m[\u001b[0m\u001b[0;36m3\u001b[0m\u001b[0;34m:\u001b[0m\u001b[0;34m]\u001b[0m\u001b[0;34m\u001b[0m\u001b[0m\n\u001b[1;32m   1476\u001b[0m         \u001b[0;32melse\u001b[0m\u001b[0;34m:\u001b[0m\u001b[0;34m\u001b[0m\u001b[0m\n",
      "\u001b[0;32m/data/conda/miniconda3-py36/envs/sciwms36/lib/python3.6/site-packages/matplotlib/contour.py\u001b[0m in \u001b[0;36m_check_xyz\u001b[0;34m(self, args, kwargs)\u001b[0m\n\u001b[1;32m   1508\u001b[0m             \u001b[0;32mraise\u001b[0m \u001b[0mTypeError\u001b[0m\u001b[0;34m(\u001b[0m\u001b[0;34m\"Input z must be a 2D array.\"\u001b[0m\u001b[0;34m)\u001b[0m\u001b[0;34m\u001b[0m\u001b[0m\n\u001b[1;32m   1509\u001b[0m         \u001b[0;32melif\u001b[0m \u001b[0mz\u001b[0m\u001b[0;34m.\u001b[0m\u001b[0mshape\u001b[0m\u001b[0;34m[\u001b[0m\u001b[0;36m0\u001b[0m\u001b[0;34m]\u001b[0m \u001b[0;34m<\u001b[0m \u001b[0;36m2\u001b[0m \u001b[0;32mor\u001b[0m \u001b[0mz\u001b[0m\u001b[0;34m.\u001b[0m\u001b[0mshape\u001b[0m\u001b[0;34m[\u001b[0m\u001b[0;36m1\u001b[0m\u001b[0;34m]\u001b[0m \u001b[0;34m<\u001b[0m \u001b[0;36m2\u001b[0m\u001b[0;34m:\u001b[0m\u001b[0;34m\u001b[0m\u001b[0m\n\u001b[0;32m-> 1510\u001b[0;31m             \u001b[0;32mraise\u001b[0m \u001b[0mTypeError\u001b[0m\u001b[0;34m(\u001b[0m\u001b[0;34m\"Input z must be at least a 2x2 array.\"\u001b[0m\u001b[0;34m)\u001b[0m\u001b[0;34m\u001b[0m\u001b[0m\n\u001b[0m\u001b[1;32m   1511\u001b[0m         \u001b[0;32melse\u001b[0m\u001b[0;34m:\u001b[0m\u001b[0;34m\u001b[0m\u001b[0m\n\u001b[1;32m   1512\u001b[0m             \u001b[0mNy\u001b[0m\u001b[0;34m,\u001b[0m \u001b[0mNx\u001b[0m \u001b[0;34m=\u001b[0m \u001b[0mz\u001b[0m\u001b[0;34m.\u001b[0m\u001b[0mshape\u001b[0m\u001b[0;34m\u001b[0m\u001b[0m\n",
      "\u001b[0;31mTypeError\u001b[0m: Input z must be at least a 2x2 array."
     ]
    },
    {
     "data": {
      "image/png": "[encoded data removed]",
      "text/plain": [
       "<Figure size 50x50 with 1 Axes>"
      ]
     },
     "metadata": {},
     "output_type": "display_data"
    }
   ],
   "source": [
    "p = dict(cmin=30,\n",
    "         cmax=300,\n",
    "         width=50,\n",
    "         height=50,\n",
    "         colormap='jet',\n",
    "         showlabel=True,\n",
    "         units='degrees',\n",
    "         showvalues=True,\n",
    "         logscale=False,\n",
    "         numcontours=10)\n",
    "fig = create_figure(p)\n",
    "ax = fig.add_axes([0.05, 0.05, 1.0, 1.0])\n",
    "ax.set_axis_off()\n",
    "\n",
    "if p['logscale'] is True:\n",
    "    CNorm = matplotlib.colors.LogNorm(vmin=p['cmin'], vmax=p['cmax'], clip=False)\n",
    "else:\n",
    "    CNorm = matplotlib.colors.Normalize(vmin=p['cmin'], vmax=p['cmax'], clip=False)\n",
    "\n",
    "levs = np.linspace(p['cmin'], p['cmax'], p['numcontours'])\n",
    "levs_labels = levs\n",
    "if p['showvalues'] is False:\n",
    "    levs_labels = [ '' for x in range(levs.size) ]\n",
    "\n",
    "x, y = np.meshgrid(np.ones(2), np.ones(2))\n",
    "cs = ax.contourf(x, y, x, levels=levs, norm=CNorm, cmap=get_cmap(p['colormap']), extend='max')\n",
    "\n",
    "proxy = [plt.Rectangle((0, 0), 0, 0, fc=pc.get_facecolor()[0]) for pc in cs.collections]\n",
    "\n",
    "cb = legend(proxy, levs_labels, frameon=False)\n",
    "if p['showlabel']:\n",
    "    cb.set_title(p['units'])\n"
   ]
  },
  {
   "cell_type": "code",
   "execution_count": null,
   "metadata": {
    "collapsed": true
   },
   "outputs": [],
   "source": []
  }
 ],
 "metadata": {
  "kernelspec": {
   "display_name": "Python 3",
   "language": "python",
   "name": "python3"
  },
  "language_info": {
   "codemirror_mode": {
    "name": "ipython",
    "version": 3
   },
   "file_extension": ".py",
   "mimetype": "text/x-python",
   "name": "python",
   "nbconvert_exporter": "python",
   "pygments_lexer": "ipython3",
   "version": "3.6.5"
  }
 },
 "nbformat": 4,
 "nbformat_minor": 1
}
